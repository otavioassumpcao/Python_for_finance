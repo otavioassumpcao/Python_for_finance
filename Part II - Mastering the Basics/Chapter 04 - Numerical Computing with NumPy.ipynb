{
 "cells": [
  {
   "cell_type": "markdown",
   "metadata": {},
   "source": [
    "## **04. Numerical Computing with `NumPy`**\n",
    "#### **4.1 Arrays of Data**\n",
    "COmeça definindo o que é um `array`, que é um estruturador de dados que organiza em linhas e colunas dados de uma mesma categoria. Num exemplo geral, um `array` pode representar uma matriz $\\text{i}\\times\\text{j}$ de elementos do mesmo tipo, mas não se limita a um espaço vetorial de apenas uma dimensão, podemos ter uma matriz $\\text{i}\\times\\text{j}\\times{k}\\times\\ldots$ e assim por diante.\n",
    "##### **4.1.1 Arrays with Python lists**"
   ]
  }
 ],
 "metadata": {
  "language_info": {
   "name": "python"
  }
 },
 "nbformat": 4,
 "nbformat_minor": 2
}
