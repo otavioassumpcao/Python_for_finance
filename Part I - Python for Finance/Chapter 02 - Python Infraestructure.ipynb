{
 "cells": [
  {
   "cell_type": "markdown",
   "metadata": {},
   "source": [
    "## **02. Python Infraestructure**\n",
    "> Esse capítulo irá mostrar algumas funcionalidades que podem ajudar na implementação do python:\n",
    "\n",
    "- *Package managers*: <br>\n",
    "    Ajudam na instalação, atualização e remoção de pacotes no Python. Também ajudam a identificar as versões dos pacotes no python. Alguns exemplos: `pip` e `conda`.\n",
    "\n",
    "- *Virtual environment managers*: <br>\n",
    "    Permite que sejam gerenciadas várias instalações do Python em paralelo (rodar Python 2.7 e 3.7 ao mesmo tempo). ALguns exemplos: `virtualenv`.\n",
    "\n",
    "- *Containers*: <br>\n",
    "    Os contêineres do `Docker` representam sistemas de arquivos completos que contêm todas as partes de um sistema necessárias para executar determinado software, como código, tempo de execução ou ferramentas do sistema.\n",
    "\n",
    "- *Cloud instances*: <br>\n",
    "    A implementação de códigos em Python para aplicações financeiros geralmente requer alta disponibilidade, segurança e também desempenho; Esses requisitos normalmente só podem ser atendidos pelo uso de infraestrutura profissional de computação e armazenamento que hoje está disponível na nuvem."
   ]
  },
  {
   "cell_type": "markdown",
   "metadata": {},
   "source": [
    "### **2.1 Conda as a Package Manager**\n",
    "\n",
    "Começa ensinando a instalar a `conda` através da `miniconda`. Depois ensina alguns comandos que podem ser utilizados para instalar e atualizar o Python e instalar, atualizar e remover um pacote no Python.\n",
    "\n",
    "Mostra quais são os principais pacotes utilizados no Python para análise financeira, são eles:\n",
    "\n",
    "- `IPython`;\n",
    "- `matplotlib`;\n",
    "- `NumPy`;\n",
    "- `pandas`;\n",
    "- `PyTables`;\n",
    "- `scikit-learn`;\n",
    "- `SciPy`;\n"
   ]
  },
  {
   "cell_type": "markdown",
   "metadata": {},
   "source": [
    "### **2.2 Conda as a Virtual Environment Manager**\n",
    "\n",
    "Acho que não vou precisar disso."
   ]
  },
  {
   "cell_type": "markdown",
   "metadata": {},
   "source": [
    "### **2.3 Using Docker Containers**\n",
    "\n",
    "Alguns termos importantes:\n",
    "\n",
    ">**Docker image**: <br>\n",
    "    *Docker images are the basis of containers. An Image is an ordered collection of root filesystem changes and the corresponding execution parameters for use within a container runtime. An image typically contains a union of layered filesystems stacked on top of each other. An image does not have state and it never changes.* <br>\n",
    "    Can be compared to a Python class.\n",
    "\n",
    ">**Docker container**: <br>\n",
    "    *A container is a runtime instance of a Docker image. A Docker container consists of: a Docker image, an execution environment, and a standard set of instructions. <br>*\n",
    "    Can be compared to an instance of the respective Python class."
   ]
  },
  {
   "cell_type": "markdown",
   "metadata": {},
   "source": [
    "Aparentemente ele ensiana fazer a instalação do Docker somente através do Linux. Mais pra frente eu vejo como funciona no Windows."
   ]
  },
  {
   "cell_type": "markdown",
   "metadata": {},
   "source": [
    "### **2.4 Using Cloud Instances**\n",
    "\n",
    "Fica falando de programar na núvem, vou deixar pra ver essas coisas mais para frente. "
   ]
  }
 ],
 "metadata": {
  "language_info": {
   "name": "python"
  }
 },
 "nbformat": 4,
 "nbformat_minor": 2
}
