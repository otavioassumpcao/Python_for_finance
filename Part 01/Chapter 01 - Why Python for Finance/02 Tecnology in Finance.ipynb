{
 "cells": [
  {
   "cell_type": "markdown",
   "metadata": {},
   "source": [
    "## **02. Tecnology in Finance**\n",
    "\n",
    "Vamos listar alguns motivos pelos quais todo o espectro do mercado financeiro vem adotando cada vez mais a programação em seu DNA:\n",
    "\n",
    "1. **Tecnology spending:** <br>\n",
    "Bancos e instituições financeiras num geral formam a industria que mais investe em tecnologia anualmente. Isso porque essas companhias estão cada vez mais interessadas em digitalizar seu ecossistema.\n",
    "\n",
    "2. **Tecnology as enabler** <br>\n",
    "Tecnologia fornece oportunidades de aumento da eficiência das operações \n",
    "\n",
    "3. **Technology and Talent as Barriers to Entry** <br>\n",
    "Investiram e investem tanto em tecnologia que em algumas áreas, como quem trabalha com análise de derivativos, esse alto nível de tecnologia acaba sendo uma barreira de entrada, pois precisa de muito conhecimento para se fazer parte do jogo.\n",
    "\n",
    "4. **Ever-Increasing Speeds, Frequencies, and Data Volumes** <br>\n",
    "O uso de tecnologia no sistema financeiro permitiu um aumento da velocidade e da frequência das transações financeiras, o que acaba por aumentar exponencialmente a quantidade de dados gerados. Isso gera uma série de desafios:\n",
    "    - Processamento de dados: <br>\n",
    "    Devem ser consideradas e analisadas as transações feitas ao longo do dia como um todo, sendo ineficiente fazer uma análise *end-of-day*.\n",
    "    - Velocidade de análise: <br>\n",
    "    Decisões devem ser tomadas em milissegundos;\n",
    "    - Fundamentações teóricas: <br>\n",
    "    Nos dias atuais, as teorias e conceitos clássicos estão longe de serem perfeitos.\n",
    "\n",
    "#### **2.1 The Rise of Real-Time Analytics**\n",
    "\n",
    "É a resposta da indústria à tendência de aumento da frequência e volume de dados, que nada mais é do que a aplicação de softwares em combinação com algoritmos avançados e métodos para coletar, processar e analisar dados. Desafios a serem superados nesse sentido:\n",
    "1. Big data: <br>\n",
    "Muito dado para ser coletado, processado e analisado.\n",
    "2. Real-time economy: <br>\n",
    "Tarefas que antes eram realizadas pelo *back-office* agora estão são de papel do *front-office* devido a essa necessidade de realização das tarefas em tempo real.\n"
   ]
  }
 ],
 "metadata": {
  "language_info": {
   "name": "python"
  },
  "orig_nbformat": 4
 },
 "nbformat": 4,
 "nbformat_minor": 2
}
