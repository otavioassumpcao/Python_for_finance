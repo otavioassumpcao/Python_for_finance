{
 "cells": [
  {
   "cell_type": "markdown",
   "metadata": {},
   "source": [
    "## **Data-Driven and AI-First Finance**\n",
    "#### **Data-Driven Finance**\n",
    "Vai mostrar como é fácil conseguir dados financeiros hoje em dia. Ele puxa os dados das ações da apple de uma base online mas precisa da assinatura pra ter acesso então não da pra fazer aqui.\n",
    "\n",
    "#### **AI-First Finance**\n",
    "Fala que Python é muito utilizado pelas empresas de AI, podendo ser integrado ao mudo das finanças quando se trata de ML e DL. Da como exemplo um código com foco em ML que será aprofundado mais para frente."
   ]
  },
  {
   "cell_type": "code",
   "execution_count": 8,
   "metadata": {},
   "outputs": [
    {
     "ename": "ModuleNotFoundError",
     "evalue": "No module named 'sklearn'",
     "output_type": "error",
     "traceback": [
      "\u001b[1;31m---------------------------------------------------------------------------\u001b[0m",
      "\u001b[1;31mModuleNotFoundError\u001b[0m                       Traceback (most recent call last)",
      "\u001b[1;32mc:\\Users\\otavi\\Documents\\GitHub\\Python_for_finance\\Part 01\\Chapter 01 - Why Python for Finance\\04 Data-Driven and AI-First Finance.ipynb Cell 2\u001b[0m line \u001b[0;36m3\n\u001b[0;32m      <a href='vscode-notebook-cell:/c%3A/Users/otavi/Documents/GitHub/Python_for_finance/Part%2001/Chapter%2001%20-%20Why%20Python%20for%20Finance/04%20Data-Driven%20and%20AI-First%20Finance.ipynb#W3sZmlsZQ%3D%3D?line=0'>1</a>\u001b[0m \u001b[39mimport\u001b[39;00m \u001b[39mnumpy\u001b[39;00m \u001b[39mas\u001b[39;00m \u001b[39mnp\u001b[39;00m\n\u001b[0;32m      <a href='vscode-notebook-cell:/c%3A/Users/otavi/Documents/GitHub/Python_for_finance/Part%2001/Chapter%2001%20-%20Why%20Python%20for%20Finance/04%20Data-Driven%20and%20AI-First%20Finance.ipynb#W3sZmlsZQ%3D%3D?line=1'>2</a>\u001b[0m \u001b[39mimport\u001b[39;00m \u001b[39mpandas\u001b[39;00m \u001b[39mas\u001b[39;00m \u001b[39mpd\u001b[39;00m\n\u001b[1;32m----> <a href='vscode-notebook-cell:/c%3A/Users/otavi/Documents/GitHub/Python_for_finance/Part%2001/Chapter%2001%20-%20Why%20Python%20for%20Finance/04%20Data-Driven%20and%20AI-First%20Finance.ipynb#W3sZmlsZQ%3D%3D?line=2'>3</a>\u001b[0m \u001b[39mfrom\u001b[39;00m \u001b[39msklearn\u001b[39;00m\u001b[39m.\u001b[39;00m\u001b[39msvm\u001b[39;00m \u001b[39mimport\u001b[39;00m SVC\n\u001b[0;32m      <a href='vscode-notebook-cell:/c%3A/Users/otavi/Documents/GitHub/Python_for_finance/Part%2001/Chapter%2001%20-%20Why%20Python%20for%20Finance/04%20Data-Driven%20and%20AI-First%20Finance.ipynb#W3sZmlsZQ%3D%3D?line=4'>5</a>\u001b[0m data \u001b[39m=\u001b[39m pd\u001b[39m.\u001b[39mread_csv(\u001b[39m'\u001b[39m\u001b[39mhttp://hilpisch.com/tr_eikon_eod_data.csv\u001b[39m\u001b[39m'\u001b[39m,\n\u001b[0;32m      <a href='vscode-notebook-cell:/c%3A/Users/otavi/Documents/GitHub/Python_for_finance/Part%2001/Chapter%2001%20-%20Why%20Python%20for%20Finance/04%20Data-Driven%20and%20AI-First%20Finance.ipynb#W3sZmlsZQ%3D%3D?line=5'>6</a>\u001b[0m                    index_col \u001b[39m=\u001b[39m \u001b[39m0\u001b[39m, parse_dates \u001b[39m=\u001b[39m \u001b[39mTrue\u001b[39;00m)\n\u001b[0;32m      <a href='vscode-notebook-cell:/c%3A/Users/otavi/Documents/GitHub/Python_for_finance/Part%2001/Chapter%2001%20-%20Why%20Python%20for%20Finance/04%20Data-Driven%20and%20AI-First%20Finance.ipynb#W3sZmlsZQ%3D%3D?line=6'>7</a>\u001b[0m data \u001b[39m=\u001b[39m pd\u001b[39m.\u001b[39mDataFrame(data[\u001b[39m'\u001b[39m\u001b[39mAAPL.O\u001b[39m\u001b[39m'\u001b[39m])\n",
      "\u001b[1;31mModuleNotFoundError\u001b[0m: No module named 'sklearn'"
     ]
    }
   ],
   "source": [
    "import numpy as np\n",
    "import pandas as pd\n",
    "from sklearn.svm import SVC\n",
    "\n",
    "data = pd.read_csv('http://hilpisch.com/tr_eikon_eod_data.csv',\n",
    "                   index_col = 0, parse_dates = True)\n",
    "data = pd.DataFrame(data['AAPL.O'])\n",
    "data['Returns'] = np.log(data / data.shift())  \n",
    "data.dropna(inplace=True)\n",
    "\n",
    "lags = 6 \n",
    "\n",
    "cols = []\n",
    "for lag in range(1, lags + 1):\n",
    "    col = 'lag_{}'.format(lag)\n",
    "    data[col] = np.sign(data['Returns'].shift(lag))  \n",
    "    cols.append(col)\n",
    "data.dropna(inplace=True)"
   ]
  }
 ],
 "metadata": {
  "kernelspec": {
   "display_name": "Python 3",
   "language": "python",
   "name": "python3"
  },
  "language_info": {
   "codemirror_mode": {
    "name": "ipython",
    "version": 3
   },
   "file_extension": ".py",
   "mimetype": "text/x-python",
   "name": "python",
   "nbconvert_exporter": "python",
   "pygments_lexer": "ipython3",
   "version": "3.12.0"
  }
 },
 "nbformat": 4,
 "nbformat_minor": 2
}
