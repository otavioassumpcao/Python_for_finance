{
 "cells": [
  {
   "cell_type": "markdown",
   "metadata": {},
   "source": [
    "## **Data-Driven and AI-First Finance**\n",
    "#### **Data-Driven Finance**\n",
    "Vai mostrar como é fácil conseguir dados financeiros hoje em dia. Ele puxa os dados das ações da apple de uma base online mas precisa da assinatura pra ter acesso então não da pra fazer aqui.\n",
    "\n",
    "**This sub-section requires a license for Eikon. Therefore no code is provided.**\n",
    "\n",
    "#### **AI-First Finance**\n",
    "Fala que Python é muito utilizado pelas empresas de AI, podendo ser integrado ao mudo das finanças quando se trata de ML e DL. Da como exemplo um código com foco em ML que será aprofundado mais para frente."
   ]
  },
  {
   "cell_type": "code",
   "execution_count": 4,
   "metadata": {},
   "outputs": [],
   "source": [
    "import numpy as np\n",
    "import pandas as pd\n",
    "\n",
    "data = pd.read_csv('C:/Users/otavi/Documents/GitHub/Python_for_finance/source/tr_eikon_eod_data_rounded.csv',\n",
    "                   index_col = 0, parse_dates = True)\n",
    "data = pd.DataFrame(data['AAPL.O'])\n",
    "data['Returns'] = np.log(data / data.shift())\n",
    "data.dropna(inplace = True)\n",
    "\n",
    "lags = 6\n",
    "\n",
    "cols = []\n",
    "for lag in range(1, lags + 1):\n",
    "    col = 'lag_{}'.format(lag)\n",
    "    data[col] = np.sign(data['Returns'].shift(lag))\n",
    "    cols.append(col)\n",
    "data.dropna(inplace = True)"
   ]
  },
  {
   "cell_type": "code",
   "execution_count": 6,
   "metadata": {},
   "outputs": [
    {
     "name": "stdout",
     "output_type": "stream",
     "text": [
      "c:\\Users\\otavi\\AppData\\Local\\Programs\\Python\\Python312\\python.exe\n"
     ]
    }
   ],
   "source": [
    "import sys\n",
    "print(sys.executable)"
   ]
  }
 ],
 "metadata": {
  "kernelspec": {
   "display_name": "Python 3",
   "language": "python",
   "name": "python3"
  },
  "language_info": {
   "codemirror_mode": {
    "name": "ipython",
    "version": 3
   },
   "file_extension": ".py",
   "mimetype": "text/x-python",
   "name": "python",
   "nbconvert_exporter": "python",
   "pygments_lexer": "ipython3",
   "version": "3.12.0"
  }
 },
 "nbformat": 4,
 "nbformat_minor": 2
}
