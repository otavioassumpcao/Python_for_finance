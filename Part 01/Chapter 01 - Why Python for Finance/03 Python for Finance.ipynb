{
 "cells": [
  {
   "cell_type": "markdown",
   "metadata": {},
   "source": [
    "## **03. Python for Finance**\n",
    "Será analisado um pouco da sintaxe do python\n",
    "\n",
    "#### **3.1. Finance and Python Syntax**\n",
    "Para ilustrar como funciona a sintaxe do Python, será utilizado como exemplo o código de construção do modelo de *Black-Shcoles-Merton*:"
   ]
  },
  {
   "cell_type": "code",
   "execution_count": 1,
   "metadata": {},
   "outputs": [
    {
     "name": "stdout",
     "output_type": "stream",
     "text": [
      "Value of the European call option: 8.024.\n"
     ]
    }
   ],
   "source": [
    "# Monte Carlo valuation of European call option in Black-Scholes-Merton model\n",
    "\n",
    "# Importando as bibliotecas\n",
    "import math\n",
    "import numpy as np\n",
    "\n",
    "# Valores dos parâmetros\n",
    "S0 = 100 \n",
    "K = 105\n",
    "T = 1.0\n",
    "r = 0.05\n",
    "sigma = 0.2\n",
    "\n",
    "I = 1000000 # número de simulações\n",
    "\n",
    "# Algorítimo de valuation\n",
    "z = np.random.standard_normal(I) # números pseudo-aleatórios\n",
    "\n",
    "ST = S0 * np.exp((r - 0.5 * sigma ** 2) * T + sigma * math.sqrt(T) * z)\n",
    "hT = np.maximum(ST - K, 0)\n",
    "\n",
    "C0 = math.exp(-r * T) * np.mean(hT)\n",
    "\n",
    "# output do resultado\n",
    "print('Value of the European call option: {:5.3f}.'.format(C0))"
   ]
  },
  {
   "cell_type": "markdown",
   "metadata": {},
   "source": [
    "#### **3.2. Efficiency and Productivity Through Python**\n",
    "\n",
    "Vamos observar um exemplo onde o Python é utilizado para o aumento da eficiência.\n",
    "\n",
    ">*Consider a finance student who is writing their master’s thesis and is interested in S&P 500 index values. They want to analyze historical index levels for, say, a few years to see how the volatility of the index has fluctuated over time and hope to find evidence that volatility, in contrast to some typical model assumptions, fluctuates over time and is far from being constant. The results should also be visualized*. \n",
    "\n",
    "O estudante tem que fazer o seguinte:\n",
    "\n",
    "- Pegar os dados do índice na internet\n",
    "- Calcular a volatilidade etc.\n",
    "- Plotar gráfico dos resultados"
   ]
  },
  {
   "cell_type": "code",
   "execution_count": 2,
   "metadata": {},
   "outputs": [],
   "source": [
    "import math\n",
    "loops = 2500000\n",
    "a = range(1, loops)\n",
    "def f(x):\n",
    " return 3 * math.log(x) + math.cos(x) ** 2\n",
    "\n",
    "%timeit r = [f(x) for x in a]"
   ]
  }
 ],
 "metadata": {
  "kernelspec": {
   "display_name": "Python 3",
   "language": "python",
   "name": "python3"
  },
  "language_info": {
   "codemirror_mode": {
    "name": "ipython",
    "version": 3
   },
   "file_extension": ".py",
   "mimetype": "text/x-python",
   "name": "python",
   "nbconvert_exporter": "python",
   "pygments_lexer": "ipython3",
   "version": "3.12.0"
  }
 },
 "nbformat": 4,
 "nbformat_minor": 2
}
