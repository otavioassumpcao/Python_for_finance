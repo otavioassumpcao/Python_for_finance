{
 "cells": [
  {
   "cell_type": "markdown",
   "metadata": {},
   "source": [
    "## **01. The Python Programming Language**\n",
    "\n",
    "Definição do que é o Pyhton:\n",
    "\n",
    ">*\"Python is an interpreted, object-oriented, high-level programming language with dynamic semantics. Its high-level built in data structures, combined with dynamic typing and dynamic binding, make it very attractive for Rapid Application Development, as well as for use as a scripting or glue language to connect existing components together. Python’s simple, easy to learn syntax emphasizes readability and therefore reduces the cost of program maintenance. Python supports modules and packages, which encourages program modularity and code reuse. The Python interpreter and the extensive standard library are available in source or binary form without charge for all major platforms, and can be freely distributed\"*\n",
    "\n",
    "Zen do Pyhton:"
   ]
  },
  {
   "cell_type": "code",
   "execution_count": 1,
   "metadata": {},
   "outputs": [
    {
     "name": "stdout",
     "output_type": "stream",
     "text": [
      "The Zen of Python, by Tim Peters\n",
      "\n",
      "Beautiful is better than ugly.\n",
      "Explicit is better than implicit.\n",
      "Simple is better than complex.\n",
      "Complex is better than complicated.\n",
      "Flat is better than nested.\n",
      "Sparse is better than dense.\n",
      "Readability counts.\n",
      "Special cases aren't special enough to break the rules.\n",
      "Although practicality beats purity.\n",
      "Errors should never pass silently.\n",
      "Unless explicitly silenced.\n",
      "In the face of ambiguity, refuse the temptation to guess.\n",
      "There should be one-- and preferably only one --obvious way to do it.\n",
      "Although that way may not be obvious at first unless you're Dutch.\n",
      "Now is better than never.\n",
      "Although never is often better than *right* now.\n",
      "If the implementation is hard to explain, it's a bad idea.\n",
      "If the implementation is easy to explain, it may be a good idea.\n",
      "Namespaces are one honking great idea -- let's do more of those!\n"
     ]
    }
   ],
   "source": [
    "import this"
   ]
  },
  {
   "cell_type": "markdown",
   "metadata": {},
   "source": [
    "#### **1.1 The Python Ecossistem**\n",
    "\n",
    "O Python possui uma série de pacotes e ferramentas (bibliotecas) que são usadas para realizar uma série de tarefas. Algumas dessas bibliotecas já vem instaladas por padrão, algumas outras devem ser instaladas por fora. A seguir, usaremos a biblioteca ```math``` como exemplo:"
   ]
  },
  {
   "cell_type": "code",
   "execution_count": 2,
   "metadata": {},
   "outputs": [
    {
     "ename": "NameError",
     "evalue": "name 'log' is not defined",
     "output_type": "error",
     "traceback": [
      "\u001b[1;31m---------------------------------------------------------------------------\u001b[0m",
      "\u001b[1;31mNameError\u001b[0m                                 Traceback (most recent call last)",
      "\u001b[1;32mc:\\Users\\otavi\\Documents\\Python Scripts\\Python for Finance\\Part 01\\Chapter 01 - Why Python for Finance\\01 The Python Programming Language.ipynb Cell 4\u001b[0m line \u001b[0;36m1\n\u001b[1;32m----> <a href='vscode-notebook-cell:/c%3A/Users/otavi/Documents/Python%20Scripts/Python%20for%20Finance/Part%2001/Chapter%2001%20-%20Why%20Python%20for%20Finance/01%20The%20Python%20Programming%20Language.ipynb#X13sZmlsZQ%3D%3D?line=0'>1</a>\u001b[0m log(\u001b[39m10\u001b[39m)\n",
      "\u001b[1;31mNameError\u001b[0m: name 'log' is not defined"
     ]
    }
   ],
   "source": [
    "# Código gera um erro pois não existe a função \"log()\" por default.\n",
    "\n",
    "log(10)"
   ]
  },
  {
   "cell_type": "code",
   "execution_count": 3,
   "metadata": {},
   "outputs": [
    {
     "data": {
      "text/plain": [
       "2.302585092994046"
      ]
     },
     "execution_count": 3,
     "metadata": {},
     "output_type": "execute_result"
    }
   ],
   "source": [
    "# Importando a bilbioteca \"math\", podemos agora utlizar a função \"math.log()\" para calcular o \n",
    "# logarítimo de um número.\n",
    "\n",
    "import math\n",
    "\n",
    "math.log(10)"
   ]
  },
  {
   "cell_type": "markdown",
   "metadata": {},
   "source": [
    "#### **1.2 The Python User Sprectrum**\n",
    "\n",
    "Basicamente, um monte de gente usa Python para as mais diversas atividades."
   ]
  },
  {
   "cell_type": "markdown",
   "metadata": {},
   "source": [
    "#### **1.3 The Scientific Stack**\n",
    "\n",
    "É um conjunto de bibliotecas muito utilizadas no Python:\n",
    "\n",
    "- `Numpy` <br>\n",
    "Provides a multidimensional array object to store homogeneous or heterogeneous data; it also provides optimized functions/methods to operate on this array object.\n",
    "\n",
    "- `SciPy`: <br>\n",
    "Is a collection of subpackages and functions implementing important standard functionality often needed in science or finance; for example, one finds functions for cubic splines interpolation as well as for numerical integration.\n",
    "\n",
    "- `matplotlib`: <br>\n",
    "This is the most popular plotting and visualization package for Python, providing both 2D and 3D visualization capabilities.\n",
    "\n",
    "- `pandas`: <br>\n",
    "Builds on `NumPy` and provides richer classes for the management andanalysis of time series and tabular data;  it is tightly integrated with `matplotlib` for plotting and `PyTables` for data storage and retrieval.\n",
    "\n",
    "- `scikit-learn`: <br>\n",
    "Is a popular machine learning (ML) package that provides a unified application programming interface (API) for many different ML algorithms, such as for estimation, classification, or clustering.\n",
    "\n",
    "- `PyTables`: <br>\n",
    "Is a popular wrapper for the HDF5 data storage package; it is a package to implement optimized, disk-based I/O operations based on a hierarchical database/file format.\n",
    "\n",
    "Nos próximos capítulos veremos que desse arcabouço de pacotes, as classes mais utilizadas são `ndaray`, do `NumPy`, e a classe `DataFrame`, do `pandas`."
   ]
  }
 ],
 "metadata": {
  "kernelspec": {
   "display_name": "Python 3",
   "language": "python",
   "name": "python3"
  },
  "language_info": {
   "codemirror_mode": {
    "name": "ipython",
    "version": 3
   },
   "file_extension": ".py",
   "mimetype": "text/x-python",
   "name": "python",
   "nbconvert_exporter": "python",
   "pygments_lexer": "ipython3",
   "version": "3.12.0"
  },
  "orig_nbformat": 4
 },
 "nbformat": 4,
 "nbformat_minor": 2
}
